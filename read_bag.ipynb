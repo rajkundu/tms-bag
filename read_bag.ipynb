{
 "metadata": {
  "language_info": {
   "codemirror_mode": {
    "name": "ipython",
    "version": 3
   },
   "file_extension": ".py",
   "mimetype": "text/x-python",
   "name": "python",
   "nbconvert_exporter": "python",
   "pygments_lexer": "ipython3",
   "version": "3.8.5-final"
  },
  "orig_nbformat": 2,
  "kernelspec": {
   "name": "Python 3.8.5 64-bit",
   "display_name": "Python 3.8.5 64-bit",
   "metadata": {
    "interpreter": {
     "hash": "082e9a3bcad0a290d0001e938aa60b99250c6c2ef33a923c00b70f9826caf4b7"
    }
   }
  }
 },
 "nbformat": 4,
 "nbformat_minor": 2,
 "cells": [
  {
   "source": [
    "# TMS/Neuronavigation Project\n",
    "## .bag file reading\n",
    "\n",
    "In this notebook, we will read RGBD data from an example bag file, `raj_face.bag`, in Python for (supposed) later manipulation.\n",
    "This notebook is heavily based off of [this example notebook](https://nbviewer.jupyter.org/github/IntelRealSense/librealsense/blob/jupyter/notebooks/distance_to_object.ipynb) from the librealsense library examples/documentation."
   ],
   "cell_type": "markdown",
   "metadata": {}
  },
  {
   "source": [
    "## Prerequisites\n",
    "-----"
   ],
   "cell_type": "markdown",
   "metadata": {}
  },
  {
   "source": [
    "### Install python dependencies to Colab"
   ],
   "cell_type": "markdown",
   "metadata": {}
  },
  {
   "cell_type": "code",
   "execution_count": null,
   "metadata": {},
   "outputs": [],
   "source": [
    "!pip install pyrealsense2"
   ]
  },
  {
   "source": [
    "### Download .bag video file & dlib .dat model"
   ],
   "cell_type": "markdown",
   "metadata": {}
  },
  {
   "cell_type": "code",
   "execution_count": null,
   "metadata": {},
   "outputs": [],
   "source": [
    "!wget -nc -O raj_face.bag https://duke.box.com/shared/static/whc4xwxrmeci1l7bbs4lxc6zknfg5y5q.bag\n",
    "!wget -nc -O shape_predictor_68_face_landmarks.dat https://duke.box.com/shared/static/a8w66egidf8wiq2e9rfjqv8gxiuw6gp6.dat"
   ]
  },
  {
   "source": [
    "### Python Imports"
   ],
   "cell_type": "markdown",
   "metadata": {}
  },
  {
   "cell_type": "code",
   "execution_count": null,
   "metadata": {},
   "outputs": [],
   "source": [
    "import numpy as np                        # fundamental package for scientific computing\n",
    "import matplotlib.pyplot as plt           # 2D plotting library producing publication quality figures\n",
    "import cv2                                # state of the art computer vision algorithms library\n",
    "import pyrealsense2 as rs                 # Intel RealSense cross-platform open-source API\n",
    "import dlib                               # Face & facial landmark detection\n",
    "print(\"Python requirements imported successfully.\")"
   ]
  },
  {
   "source": [
    "## Data Decoding & Visualization\n",
    "-----"
   ],
   "cell_type": "markdown",
   "metadata": {}
  },
  {
   "source": [
    "### Reading data from .bag file"
   ],
   "cell_type": "markdown",
   "metadata": {}
  },
  {
   "cell_type": "code",
   "execution_count": null,
   "metadata": {},
   "outputs": [],
   "source": [
    "BAG_FILENAME = \"raj_face.bag\"\n",
    "\n",
    "# Setup:\n",
    "pipe = rs.pipeline()\n",
    "cfg = rs.config()\n",
    "cfg.enable_device_from_file(BAG_FILENAME)\n",
    "profile = pipe.start(cfg)\n",
    "\n",
    "# --------------- #\n",
    "# SKIP 150 frames (150 is arbitrary; just to skip to somewhere in middle of video)\n",
    "for x in range(150):\n",
    "    pipe.wait_for_frames()\n",
    "# --------------- #\n",
    "  \n",
    "# Store next frameset for later processing:\n",
    "frameset = pipe.wait_for_frames()\n",
    "color_frame = frameset.get_color_frame()\n",
    "depth_frame = frameset.get_depth_frame()\n",
    "\n",
    "# Cleanup:\n",
    "pipe.stop()\n",
    "print(f\"{BAG_FILENAME} frame data read successfully\")"
   ]
  },
  {
   "source": [
    "### RGB decoding/visualization"
   ],
   "cell_type": "markdown",
   "metadata": {}
  },
  {
   "cell_type": "code",
   "execution_count": null,
   "metadata": {},
   "outputs": [],
   "source": [
    "color = np.asanyarray(color_frame.get_data())\n",
    "plt.rcParams[\"axes.grid\"] = False\n",
    "plt.rcParams['figure.figsize'] = [12, 6]\n",
    "plt.imshow(color)"
   ]
  },
  {
   "source": [
    "### Align Depth to RGB"
   ],
   "cell_type": "markdown",
   "metadata": {}
  },
  {
   "cell_type": "code",
   "execution_count": null,
   "metadata": {},
   "outputs": [],
   "source": [
    "# Create alignment primitive with color as its target stream:\n",
    "align = rs.align(rs.stream.color)\n",
    "frameset = align.process(frameset)\n",
    "\n",
    "# Update color and depth frames:\n",
    "aligned_depth_frame = frameset.get_depth_frame()\n",
    "colorized_depth = np.asanyarray(rs.colorizer().colorize(aligned_depth_frame).get_data())"
   ]
  },
  {
   "source": [
    "### RGBD Visualization (Aligned)"
   ],
   "cell_type": "markdown",
   "metadata": {}
  },
  {
   "cell_type": "code",
   "execution_count": null,
   "metadata": {},
   "outputs": [],
   "source": [
    "plt.imshow(np.vstack((color, colorized_depth)))"
   ]
  },
  {
   "source": [
    "## Preliminary Data Analysis/Manipulation"
   ],
   "cell_type": "markdown",
   "metadata": {}
  },
  {
   "cell_type": "code",
   "execution_count": null,
   "metadata": {},
   "outputs": [],
   "source": [
    "distance_query_x = int(aligned_depth_frame.get_width() * 0.5)\n",
    "distance_query_y = int(aligned_depth_frame.get_height() * 0.5)\n",
    "print(f\"Frame dimensions: {aligned_depth_frame.get_width():.0f} x {aligned_depth_frame.get_height():.0f} px\")\n",
    "queried_distance = aligned_depth_frame.get_distance(distance_query_x, distance_query_y)\n",
    "print(f\"Distance at ({distance_query_x}, {distance_query_y}): {queried_distance:.4f} m\")"
   ]
  },
  {
   "source": [
    "### Dlib Face, Facial Landmark Detection & Depth Querying"
   ],
   "cell_type": "markdown",
   "metadata": {}
  },
  {
   "cell_type": "code",
   "execution_count": null,
   "metadata": {},
   "outputs": [],
   "source": [
    "detector = dlib.get_frontal_face_detector() \n",
    "predictor = dlib.shape_predictor(\"shape_predictor_68_face_landmarks.dat\") \n",
    "\n",
    "# Landmarks of interest\n",
    "LANDMARKS_OF_INTEREST = ((\"NOSE_BRIDGE_TOP\", 27), (\"FACE_LEFT\", 0), (\"FACE_RIGHT\", 16))\n",
    "# Landmark dot color (RGB)\n",
    "LANDMARK_REGULAR_COLOR = (0, 255, 255)\n",
    "# Landmark of interest dot color (RGB)\n",
    "LANDMARK_INTEREST_COLOR = (255, 100, 0)"
   ]
  },
  {
   "cell_type": "code",
   "execution_count": null,
   "metadata": {},
   "outputs": [],
   "source": [
    "# RGB data\n",
    "rgb_frame_data = np.asanyarray(frameset.get_color_frame().get_data())\n",
    "# convert to grayscale for detection\n",
    "gray = cv2.cvtColor(rgb_frame_data, cv2.COLOR_BGR2GRAY)\n",
    "\n",
    "faces = detector(gray)\n",
    "for face in faces:  \n",
    "    x1 = face.left() \n",
    "    y1 = face.top() \n",
    "    x2 = face.right() \n",
    "    y2 = face.bottom() \n",
    "    landmarks = predictor(gray, face)\n",
    "\n",
    "    landmark_interest_depths = []\n",
    "    # Iterate through all landmarks\n",
    "    for n in range(0, 68):\n",
    "        x = landmarks.part(n).x \n",
    "        y = landmarks.part(n).y \n",
    "        is_landmark_of_interest = False\n",
    "        landmark_name = None\n",
    "        for (name, index) in LANDMARKS_OF_INTEREST:\n",
    "            if(n == index):\n",
    "                is_landmark_of_interest = True\n",
    "                landmark_name = name\n",
    "                break\n",
    "        \n",
    "        if(is_landmark_of_interest):\n",
    "            cv2.circle(rgb_frame_data, (x, y), 3, LANDMARK_INTEREST_COLOR, -1)\n",
    "            landmark_interest_depths.append((landmark_name, aligned_depth_frame.get_distance(x, y)))\n",
    "        else:\n",
    "            cv2.circle(rgb_frame_data, (x, y), 3, LANDMARK_REGULAR_COLOR, -1)\n",
    "    for name, depth in landmark_interest_depths:\n",
    "        print(f\"Depth of {name} is {depth:.4f} m\")\n",
    "    print(\"(Note: left/right directions are from perspective of camera)\")\n",
    "\n",
    "    plt.imshow(rgb_frame_data)"
   ]
  },
  {
   "cell_type": "code",
   "execution_count": null,
   "metadata": {},
   "outputs": [],
   "source": [
    "# Point cloud visualization\n",
    "%matplotlib notebook\n",
    "\n",
    "import matplotlib.pyplot as plt\n",
    "from mpl_toolkits.mplot3d import axes3d\n",
    "\n",
    "fig = plt.figure()\n",
    "ax = fig.add_subplot(111, projection='3d')\n",
    "\n",
    "points = ([], [], [])\n",
    "for x in range(0, aligned_depth_frame.get_width()):\n",
    "    for y in range(0, aligned_depth_frame.get_height()):\n",
    "        points[0].append(x)\n",
    "        points[1].append(y)\n",
    "        points[2].append(aligned_depth_frame.get_distance(x, y))\n",
    "\n",
    "ax.scatter(points[0], points[2], points[1], c='r', marker='o')\n",
    "\n",
    "ax.set_xlabel('X Pixel')\n",
    "ax.set_ylabel('Depth')\n",
    "ax.set_zlabel('Y Pixel')\n",
    "\n",
    "plt.show()"
   ]
  },
  {
   "cell_type": "code",
   "execution_count": null,
   "metadata": {},
   "outputs": [],
   "source": []
  }
 ]
}